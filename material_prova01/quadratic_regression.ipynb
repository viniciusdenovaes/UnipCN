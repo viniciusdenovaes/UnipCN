{
 "cells": [
  {
   "cell_type": "code",
   "execution_count": 1,
   "metadata": {
    "collapsed": true
   },
   "outputs": [],
   "source": [
    "import pandas as pd\n",
    "import numpy as np\n",
    "import matplotlib.pyplot as plt\n"
   ]
  },
  {
   "cell_type": "code",
   "execution_count": 2,
   "outputs": [],
   "source": [
    "def f(x):\n",
    "    return 2*x**2 + 5*x - 10"
   ],
   "metadata": {
    "collapsed": false,
    "pycharm": {
     "name": "#%%\n"
    }
   }
  },
  {
   "cell_type": "code",
   "execution_count": 3,
   "outputs": [],
   "source": [
    "x_min = -10\n",
    "x_max = 10\n",
    "x_range = x_max - x_min"
   ],
   "metadata": {
    "collapsed": false,
    "pycharm": {
     "name": "#%%\n"
    }
   }
  },
  {
   "cell_type": "code",
   "execution_count": 4,
   "outputs": [],
   "source": [
    "x_size = 100\n",
    "x = x_min + np.random.rand(x_size)*x_range"
   ],
   "metadata": {
    "collapsed": false,
    "pycharm": {
     "name": "#%%\n"
    }
   }
  },
  {
   "cell_type": "code",
   "execution_count": 5,
   "outputs": [
    {
     "data": {
      "text/plain": "array([ 3.11220684,  3.97647848,  3.78896343,  6.99542379, -5.49032654,\n       -9.36559394, -8.86942817, -7.46113104, -4.989719  , -7.26389624,\n        8.12995304, -0.5961915 , -2.18547813,  4.78869195, -3.93627098,\n        9.82691429, -3.64385239, -6.08172903, -4.61618598,  3.28369505,\n        0.75864301,  5.71097602, -8.15388881, -7.09101505, -9.62949421,\n       -9.18324108, -1.74120302, -4.01294681,  0.0292582 , -6.02519797,\n        0.37466382, -3.71028857, -8.21202472, -9.84033702, -1.41865373,\n       -7.1920798 , -7.70584338,  8.90955631, -1.97889979,  4.24152471,\n        4.8885951 , -1.08477898, -1.32922473,  5.58602928, -0.90107417,\n       -9.83549861, -1.98663526,  2.60480308, -1.91729702,  3.27699699,\n        1.3938286 ,  4.05026532,  9.28160579, -1.64567806, -9.5705361 ,\n        2.90246066,  1.12463468,  3.32607932,  8.11284916,  1.11008203,\n        8.1169239 , -9.55652674,  0.15571107, -5.16275688,  4.18335703,\n       -1.51233316, -4.70835292,  8.62153345,  4.65909247, -2.2408124 ,\n       -4.95547791, -0.29647286,  0.60797916,  2.18582613, -8.48244581,\n       -2.22690646, -0.24728429,  8.05852596,  5.23696176, -9.00857818,\n       -4.98934742,  6.0017306 ,  1.75202411,  2.46229733, -3.71086919,\n       -9.28923462,  8.8221562 ,  1.91425289,  0.93771218, -2.24761991,\n       -0.59922063,  7.77858927, -3.46947478,  8.81647715,  6.0896699 ,\n        7.57075381,  4.10944821, -9.24645728,  3.92082032,  2.3574463 ])"
     },
     "execution_count": 5,
     "metadata": {},
     "output_type": "execute_result"
    }
   ],
   "source": [
    "x\n"
   ],
   "metadata": {
    "collapsed": false,
    "pycharm": {
     "name": "#%%\n"
    }
   }
  },
  {
   "cell_type": "code",
   "execution_count": 6,
   "outputs": [],
   "source": [
    "y = f(x) + 15*np.random.randn(x_size)"
   ],
   "metadata": {
    "collapsed": false,
    "pycharm": {
     "name": "#%%\n"
    }
   }
  },
  {
   "cell_type": "code",
   "execution_count": 7,
   "outputs": [],
   "source": [
    "x_real = np.linspace(x_min, x_max, 100)\n",
    "y_real = f(x_real)"
   ],
   "metadata": {
    "collapsed": false,
    "pycharm": {
     "name": "#%%\n"
    }
   }
  },
  {
   "cell_type": "code",
   "execution_count": 7,
   "outputs": [],
   "source": [],
   "metadata": {
    "collapsed": false,
    "pycharm": {
     "name": "#%%\n"
    }
   }
  },
  {
   "cell_type": "code",
   "execution_count": 8,
   "outputs": [
    {
     "data": {
      "text/plain": "<matplotlib.collections.PathCollection at 0x7fa23b99ddf0>"
     },
     "execution_count": 8,
     "metadata": {},
     "output_type": "execute_result"
    },
    {
     "data": {
      "text/plain": "<Figure size 432x288 with 1 Axes>",
      "image/png": "[encoded data removed]"
     },
     "metadata": {
      "needs_background": "light"
     },
     "output_type": "display_data"
    }
   ],
   "source": [
    "plt.plot(x_real, y_real, 'r')\n",
    "plt.scatter(x=x, y=y)"
   ],
   "metadata": {
    "collapsed": false,
    "pycharm": {
     "name": "#%%\n"
    }
   }
  },
  {
   "cell_type": "code",
   "execution_count": 9,
   "outputs": [],
   "source": [
    "x_exemplo = [-2, -2, 0, 0, 1, 1]\n",
    "y_exemplo = [\n",
    "    f(x_exemplo[0]) + 2,\n",
    "    f(x_exemplo[1]) - 2,\n",
    "    f(x_exemplo[2]) + 1,\n",
    "    f(x_exemplo[3]) - 1,\n",
    "    f(x_exemplo[4]) + 3,\n",
    "    f(x_exemplo[5]) - 3,\n",
    "]\n",
    "x_exemplo = np.array(x_exemplo)\n",
    "y_exemplo = np.array(y_exemplo)"
   ],
   "metadata": {
    "collapsed": false,
    "pycharm": {
     "name": "#%%\n"
    }
   }
  },
  {
   "cell_type": "code",
   "execution_count": 10,
   "outputs": [
    {
     "data": {
      "text/plain": "<matplotlib.collections.PathCollection at 0x7fa239844bb0>"
     },
     "execution_count": 10,
     "metadata": {},
     "output_type": "execute_result"
    },
    {
     "data": {
      "text/plain": "<Figure size 432x288 with 1 Axes>",
      "image/png": "[encoded data removed]"
     },
     "metadata": {
      "needs_background": "light"
     },
     "output_type": "display_data"
    }
   ],
   "source": [
    "plt.scatter(x_exemplo, y_exemplo)\n"
   ],
   "metadata": {
    "collapsed": false,
    "pycharm": {
     "name": "#%%\n"
    }
   }
  },
  {
   "cell_type": "code",
   "execution_count": 34,
   "outputs": [
    {
     "data": {
      "text/plain": "array([[ -2, -10],\n       [ -2, -14],\n       [  0,  -9],\n       [  0, -11],\n       [  1,   0],\n       [  1,  -6]])"
     },
     "execution_count": 34,
     "metadata": {},
     "output_type": "execute_result"
    }
   ],
   "source": [
    "np.c_[x_exemplo, y_exemplo]"
   ],
   "metadata": {
    "collapsed": false,
    "pycharm": {
     "name": "#%%\n"
    }
   }
  },
  {
   "cell_type": "code",
   "execution_count": 11,
   "outputs": [
    {
     "data": {
      "text/plain": "array([-2, -2,  0,  0,  1,  1])"
     },
     "execution_count": 11,
     "metadata": {},
     "output_type": "execute_result"
    }
   ],
   "source": [
    "x_exemplo"
   ],
   "metadata": {
    "collapsed": false,
    "pycharm": {
     "name": "#%%\n"
    }
   }
  },
  {
   "cell_type": "code",
   "execution_count": 12,
   "outputs": [
    {
     "data": {
      "text/plain": "array([-10, -14,  -9, -11,   0,  -6])"
     },
     "execution_count": 12,
     "metadata": {},
     "output_type": "execute_result"
    }
   ],
   "source": [
    "y_exemplo"
   ],
   "metadata": {
    "collapsed": false,
    "pycharm": {
     "name": "#%%\n"
    }
   }
  },
  {
   "cell_type": "code",
   "execution_count": 13,
   "outputs": [
    {
     "data": {
      "text/plain": "-50"
     },
     "execution_count": 13,
     "metadata": {},
     "output_type": "execute_result"
    }
   ],
   "source": [
    "sum(y_exemplo)"
   ],
   "metadata": {
    "collapsed": false,
    "pycharm": {
     "name": "#%%\n"
    }
   }
  },
  {
   "cell_type": "markdown",
   "source": [
    "```\n",
    "a2 para g_2(x) = x^2\n",
    "a1 para g_1(x) = x\n",
    "a0 para g_0(x) = 1\n",
    "```"
   ],
   "metadata": {
    "collapsed": false,
    "pycharm": {
     "name": "#%% md\n"
    }
   }
  },
  {
   "cell_type": "code",
   "execution_count": 14,
   "outputs": [],
   "source": [
    "def g2(x):return x**2\n",
    "def g1(x):return x\n",
    "def g0(x):return np.ones(len(x))\n"
   ],
   "metadata": {
    "collapsed": false,
    "pycharm": {
     "name": "#%%\n"
    }
   }
  },
  {
   "cell_type": "code",
   "execution_count": 15,
   "outputs": [],
   "source": [
    "xe = x_exemplo\n",
    "ye = y_exemplo"
   ],
   "metadata": {
    "collapsed": false,
    "pycharm": {
     "name": "#%%\n"
    }
   }
  },
  {
   "cell_type": "code",
   "source": [
    "a00 = sum(g0(xe)*g0(xe))\n",
    "a01 = sum(g0(xe)*g1(xe))\n",
    "a02 = sum(g0(xe)*g2(xe))\n",
    "a10 = sum(g1(xe)*g0(xe))\n",
    "a11 = sum(g1(xe)*g1(xe))\n",
    "a12 = sum(g1(xe)*g2(xe))\n",
    "a20 = sum(g2(xe)*g0(xe))\n",
    "a21 = sum(g2(xe)*g1(xe))\n",
    "a22 = sum(g2(xe)*g2(xe))\n"
   ],
   "metadata": {
    "collapsed": false,
    "pycharm": {
     "name": "#%%\n"
    }
   },
   "execution_count": 16,
   "outputs": []
  },
  {
   "cell_type": "code",
   "execution_count": 17,
   "outputs": [],
   "source": [
    "b0 = sum(ye*g0(xe))\n",
    "b1 = sum(ye*g1(xe))\n",
    "b2 = sum(ye*g2(xe))\n"
   ],
   "metadata": {
    "collapsed": false,
    "pycharm": {
     "name": "#%%\n"
    }
   }
  },
  {
   "cell_type": "code",
   "execution_count": 18,
   "outputs": [],
   "source": [
    "a = np.array([\n",
    "    [a00, a01, a02],\n",
    "    [a10, a11, a12],\n",
    "    [a20, a21, a22],\n",
    "])"
   ],
   "metadata": {
    "collapsed": false,
    "pycharm": {
     "name": "#%%\n"
    }
   }
  },
  {
   "cell_type": "code",
   "execution_count": 19,
   "outputs": [],
   "source": [
    "b = np.array([b0, b1, b2])"
   ],
   "metadata": {
    "collapsed": false,
    "pycharm": {
     "name": "#%%\n"
    }
   }
  },
  {
   "cell_type": "code",
   "execution_count": 35,
   "outputs": [
    {
     "data": {
      "text/plain": "array([[  6.,  -2.,  10.],\n       [ -2.,  10., -14.],\n       [ 10., -14.,  34.]])"
     },
     "execution_count": 35,
     "metadata": {},
     "output_type": "execute_result"
    }
   ],
   "source": [
    "a"
   ],
   "metadata": {
    "collapsed": false,
    "pycharm": {
     "name": "#%%\n"
    }
   }
  },
  {
   "cell_type": "code",
   "execution_count": 36,
   "outputs": [
    {
     "data": {
      "text/plain": "array([ -50.,   42., -102.])"
     },
     "execution_count": 36,
     "metadata": {},
     "output_type": "execute_result"
    }
   ],
   "source": [
    "b"
   ],
   "metadata": {
    "collapsed": false,
    "pycharm": {
     "name": "#%%\n"
    }
   }
  },
  {
   "cell_type": "code",
   "execution_count": 45,
   "outputs": [
    {
     "name": "stdout",
     "output_type": "stream",
     "text": [
      " $0$ & $-2$ & $-10$ & $1.0$ & $-2$ & $4$ \\\\ \\hline\n",
      " $1$ & $-2$ & $-14$ & $1.0$ & $-2$ & $4$ \\\\ \\hline\n",
      " $2$ & $0$ & $-9$ & $1.0$ & $0$ & $0$ \\\\ \\hline\n",
      " $3$ & $0$ & $-11$ & $1.0$ & $0$ & $0$ \\\\ \\hline\n",
      " $4$ & $1$ & $0$ & $1.0$ & $1$ & $1$ \\\\ \\hline\n",
      " $5$ & $1$ & $-6$ & $1.0$ & $1$ & $1$ \\\\ \\hline\n"
     ]
    }
   ],
   "source": [
    "for i in range(len(xe)):\n",
    "    print(f' ${i}$ & ${xe[i]}$ & ${ye[i]}$ & ${g0(xe)[i]}$ & ${g1(xe)[i]}$ & ${g2(xe)[i]}$ \\\\\\\\ \\hline')"
   ],
   "metadata": {
    "collapsed": false,
    "pycharm": {
     "name": "#%%\n"
    }
   }
  },
  {
   "cell_type": "code",
   "execution_count": 20,
   "outputs": [],
   "source": [
    "alpha = np.linalg.solve(a, b)"
   ],
   "metadata": {
    "collapsed": false,
    "pycharm": {
     "name": "#%%\n"
    }
   }
  },
  {
   "cell_type": "code",
   "execution_count": 21,
   "outputs": [
    {
     "data": {
      "text/plain": "array([-10.,   5.,   2.])"
     },
     "execution_count": 21,
     "metadata": {},
     "output_type": "execute_result"
    }
   ],
   "source": [
    "alpha"
   ],
   "metadata": {
    "collapsed": false,
    "pycharm": {
     "name": "#%%\n"
    }
   }
  },
  {
   "cell_type": "code",
   "execution_count": 22,
   "outputs": [],
   "source": [
    "xe_ls = np.linspace(-2, 1, 100)\n",
    "f_exemplo = alpha[0]*g0(xe_ls) + alpha[1]*g1(xe_ls) + alpha[2]*g2(xe_ls)"
   ],
   "metadata": {
    "collapsed": false,
    "pycharm": {
     "name": "#%%\n"
    }
   }
  },
  {
   "cell_type": "code",
   "execution_count": 23,
   "outputs": [
    {
     "data": {
      "text/plain": "<matplotlib.collections.PathCollection at 0x7fa2397bcee0>"
     },
     "execution_count": 23,
     "metadata": {},
     "output_type": "execute_result"
    },
    {
     "data": {
      "text/plain": "<Figure size 432x288 with 1 Axes>",
      "image/png": "[encoded data removed]"
     },
     "metadata": {
      "needs_background": "light"
     },
     "output_type": "display_data"
    }
   ],
   "source": [
    "plt.plot(xe_ls, f_exemplo)\n",
    "plt.scatter(x_exemplo, y_exemplo)\n"
   ],
   "metadata": {
    "collapsed": false,
    "pycharm": {
     "name": "#%%\n"
    }
   }
  },
  {
   "cell_type": "code",
   "execution_count": 24,
   "outputs": [
    {
     "data": {
      "text/plain": "<matplotlib.collections.PathCollection at 0x7fa2397b6460>"
     },
     "execution_count": 24,
     "metadata": {},
     "output_type": "execute_result"
    },
    {
     "data": {
      "text/plain": "<Figure size 432x288 with 1 Axes>",
      "image/png": "[encoded data removed]"
     },
     "metadata": {
      "needs_background": "light"
     },
     "output_type": "display_data"
    }
   ],
   "source": [
    "plt.scatter(x, y)"
   ],
   "metadata": {
    "collapsed": false,
    "pycharm": {
     "name": "#%%\n"
    }
   }
  },
  {
   "cell_type": "code",
   "execution_count": 25,
   "outputs": [],
   "source": [
    "atributos = np.c_[g0(x), g1(x), g2(x)]\n",
    "target = y"
   ],
   "metadata": {
    "collapsed": false,
    "pycharm": {
     "name": "#%%\n"
    }
   }
  },
  {
   "cell_type": "code",
   "execution_count": 26,
   "outputs": [
    {
     "data": {
      "text/plain": "array([[ 1.00000000e+00,  3.11220684e+00,  9.68583139e+00],\n       [ 1.00000000e+00,  3.97647848e+00,  1.58123811e+01],\n       [ 1.00000000e+00,  3.78896343e+00,  1.43562439e+01],\n       [ 1.00000000e+00,  6.99542379e+00,  4.89359540e+01],\n       [ 1.00000000e+00, -5.49032654e+00,  3.01436855e+01],\n       [ 1.00000000e+00, -9.36559394e+00,  8.77143498e+01],\n       [ 1.00000000e+00, -8.86942817e+00,  7.86667560e+01],\n       [ 1.00000000e+00, -7.46113104e+00,  5.56684763e+01],\n       [ 1.00000000e+00, -4.98971900e+00,  2.48972957e+01],\n       [ 1.00000000e+00, -7.26389624e+00,  5.27641886e+01],\n       [ 1.00000000e+00,  8.12995304e+00,  6.60961364e+01],\n       [ 1.00000000e+00, -5.96191501e-01,  3.55444306e-01],\n       [ 1.00000000e+00, -2.18547813e+00,  4.77631468e+00],\n       [ 1.00000000e+00,  4.78869195e+00,  2.29315705e+01],\n       [ 1.00000000e+00, -3.93627098e+00,  1.54942293e+01],\n       [ 1.00000000e+00,  9.82691429e+00,  9.65682444e+01],\n       [ 1.00000000e+00, -3.64385239e+00,  1.32776603e+01],\n       [ 1.00000000e+00, -6.08172903e+00,  3.69874280e+01],\n       [ 1.00000000e+00, -4.61618598e+00,  2.13091730e+01],\n       [ 1.00000000e+00,  3.28369505e+00,  1.07826532e+01],\n       [ 1.00000000e+00,  7.58643008e-01,  5.75539214e-01],\n       [ 1.00000000e+00,  5.71097602e+00,  3.26152471e+01],\n       [ 1.00000000e+00, -8.15388881e+00,  6.64859027e+01],\n       [ 1.00000000e+00, -7.09101505e+00,  5.02824945e+01],\n       [ 1.00000000e+00, -9.62949421e+00,  9.27271588e+01],\n       [ 1.00000000e+00, -9.18324108e+00,  8.43319167e+01],\n       [ 1.00000000e+00, -1.74120302e+00,  3.03178796e+00],\n       [ 1.00000000e+00, -4.01294681e+00,  1.61037421e+01],\n       [ 1.00000000e+00,  2.92582038e-02,  8.56042491e-04],\n       [ 1.00000000e+00, -6.02519797e+00,  3.63030106e+01],\n       [ 1.00000000e+00,  3.74663823e-01,  1.40372980e-01],\n       [ 1.00000000e+00, -3.71028857e+00,  1.37662413e+01],\n       [ 1.00000000e+00, -8.21202472e+00,  6.74373500e+01],\n       [ 1.00000000e+00, -9.84033702e+00,  9.68322327e+01],\n       [ 1.00000000e+00, -1.41865373e+00,  2.01257840e+00],\n       [ 1.00000000e+00, -7.19207980e+00,  5.17260119e+01],\n       [ 1.00000000e+00, -7.70584338e+00,  5.93800222e+01],\n       [ 1.00000000e+00,  8.90955631e+00,  7.93801936e+01],\n       [ 1.00000000e+00, -1.97889979e+00,  3.91604439e+00],\n       [ 1.00000000e+00,  4.24152471e+00,  1.79905319e+01],\n       [ 1.00000000e+00,  4.88859510e+00,  2.38983620e+01],\n       [ 1.00000000e+00, -1.08477898e+00,  1.17674545e+00],\n       [ 1.00000000e+00, -1.32922473e+00,  1.76683839e+00],\n       [ 1.00000000e+00,  5.58602928e+00,  3.12037232e+01],\n       [ 1.00000000e+00, -9.01074171e-01,  8.11934661e-01],\n       [ 1.00000000e+00, -9.83549861e+00,  9.67370330e+01],\n       [ 1.00000000e+00, -1.98663526e+00,  3.94671966e+00],\n       [ 1.00000000e+00,  2.60480308e+00,  6.78499910e+00],\n       [ 1.00000000e+00, -1.91729702e+00,  3.67602785e+00],\n       [ 1.00000000e+00,  3.27699699e+00,  1.07387093e+01],\n       [ 1.00000000e+00,  1.39382860e+00,  1.94275817e+00],\n       [ 1.00000000e+00,  4.05026532e+00,  1.64046492e+01],\n       [ 1.00000000e+00,  9.28160579e+00,  8.61482060e+01],\n       [ 1.00000000e+00, -1.64567806e+00,  2.70825629e+00],\n       [ 1.00000000e+00, -9.57053610e+00,  9.15951612e+01],\n       [ 1.00000000e+00,  2.90246066e+00,  8.42427788e+00],\n       [ 1.00000000e+00,  1.12463468e+00,  1.26480317e+00],\n       [ 1.00000000e+00,  3.32607932e+00,  1.10628036e+01],\n       [ 1.00000000e+00,  8.11284916e+00,  6.58183216e+01],\n       [ 1.00000000e+00,  1.11008203e+00,  1.23228211e+00],\n       [ 1.00000000e+00,  8.11692390e+00,  6.58844536e+01],\n       [ 1.00000000e+00, -9.55652674e+00,  9.13272034e+01],\n       [ 1.00000000e+00,  1.55711072e-01,  2.42459380e-02],\n       [ 1.00000000e+00, -5.16275688e+00,  2.66540586e+01],\n       [ 1.00000000e+00,  4.18335703e+00,  1.75004761e+01],\n       [ 1.00000000e+00, -1.51233316e+00,  2.28715159e+00],\n       [ 1.00000000e+00, -4.70835292e+00,  2.21685872e+01],\n       [ 1.00000000e+00,  8.62153345e+00,  7.43308390e+01],\n       [ 1.00000000e+00,  4.65909247e+00,  2.17071427e+01],\n       [ 1.00000000e+00, -2.24081240e+00,  5.02124023e+00],\n       [ 1.00000000e+00, -4.95547791e+00,  2.45567613e+01],\n       [ 1.00000000e+00, -2.96472858e-01,  8.78961556e-02],\n       [ 1.00000000e+00,  6.07979164e-01,  3.69638664e-01],\n       [ 1.00000000e+00,  2.18582613e+00,  4.77783585e+00],\n       [ 1.00000000e+00, -8.48244581e+00,  7.19518869e+01],\n       [ 1.00000000e+00, -2.22690646e+00,  4.95911240e+00],\n       [ 1.00000000e+00, -2.47284294e-01,  6.11495221e-02],\n       [ 1.00000000e+00,  8.05852596e+00,  6.49398406e+01],\n       [ 1.00000000e+00,  5.23696176e+00,  2.74257684e+01],\n       [ 1.00000000e+00, -9.00857818e+00,  8.11544807e+01],\n       [ 1.00000000e+00, -4.98934742e+00,  2.48935877e+01],\n       [ 1.00000000e+00,  6.00173060e+00,  3.60207701e+01],\n       [ 1.00000000e+00,  1.75202411e+00,  3.06958849e+00],\n       [ 1.00000000e+00,  2.46229733e+00,  6.06290815e+00],\n       [ 1.00000000e+00, -3.71086919e+00,  1.37705501e+01],\n       [ 1.00000000e+00, -9.28923462e+00,  8.62898798e+01],\n       [ 1.00000000e+00,  8.82215620e+00,  7.78304400e+01],\n       [ 1.00000000e+00,  1.91425289e+00,  3.66436414e+00],\n       [ 1.00000000e+00,  9.37712177e-01,  8.79304126e-01],\n       [ 1.00000000e+00, -2.24761991e+00,  5.05179526e+00],\n       [ 1.00000000e+00, -5.99220633e-01,  3.59065368e-01],\n       [ 1.00000000e+00,  7.77858927e+00,  6.05064510e+01],\n       [ 1.00000000e+00, -3.46947478e+00,  1.20372552e+01],\n       [ 1.00000000e+00,  8.81647715e+00,  7.77302693e+01],\n       [ 1.00000000e+00,  6.08966990e+00,  3.70840795e+01],\n       [ 1.00000000e+00,  7.57075381e+00,  5.73163133e+01],\n       [ 1.00000000e+00,  4.10944821e+00,  1.68875646e+01],\n       [ 1.00000000e+00, -9.24645728e+00,  8.54969722e+01],\n       [ 1.00000000e+00,  3.92082032e+00,  1.53728320e+01],\n       [ 1.00000000e+00,  2.35744630e+00,  5.55755306e+00]])"
     },
     "execution_count": 26,
     "metadata": {},
     "output_type": "execute_result"
    }
   ],
   "source": [
    "atributos\n"
   ],
   "metadata": {
    "collapsed": false,
    "pycharm": {
     "name": "#%%\n"
    }
   }
  },
  {
   "cell_type": "code",
   "execution_count": 27,
   "outputs": [
    {
     "data": {
      "text/plain": "array([ 51.29671868,  52.12433869,  36.78876317, 136.218019  ,\n         3.07009456, 120.50726913, 134.6895549 ,  66.33812564,\n        16.98751785,  54.95335265, 172.97082188, -15.81679656,\n       -22.66326781,  57.29453615,   5.23441545, 223.66716405,\n        -6.82807295,  16.14939086,   4.60772302,  14.32680338,\n        39.16648743,  93.64132839,  65.12155961,  68.73909024,\n       132.90604624, 104.30005353, -17.56981081,  10.61902264,\n       -14.18515409,  17.24668921,   1.66982541, -19.89603468,\n        70.0186099 , 114.12495092, -29.12434002,  50.04763175,\n        64.74801105, 184.72111683, -27.08112278,  48.19261153,\n        48.83569627, -17.63795872,   7.76486875,  40.72202014,\n       -17.25419761, 155.25490721, -13.16188226,  24.23855449,\n       -21.20550093,  25.22787259,   6.96551325,  63.54979586,\n       209.62273181,   3.61953249, 121.46135446,  30.21094412,\n       -14.0829654 ,  27.7476673 , 162.64514515, -13.43901101,\n       165.24994481, 133.18297541, -23.64884085,  34.62401613,\n        41.7499898 ,  -6.57409655,  45.62939373, 157.55580733,\n        64.58096052,  10.82850494,  11.68891656, -10.33376056,\n       -53.11393474,  35.47435015,  81.73977162, -27.39923676,\n       -12.93969818, 155.45084481,  64.93449734,  98.1379946 ,\n        15.2401998 ,  88.18022584,  18.97078374,  50.06684078,\n        13.17923535, 136.04965281, 185.54747919,  22.74346906,\n        -8.31970958, -22.16480178, -32.29568955, 148.4291315 ,\n        17.11701338, 191.02750472,  73.48927801, 161.11051873,\n        19.5585942 , 124.28711014,  30.90910474,  12.27134062])"
     },
     "execution_count": 27,
     "metadata": {},
     "output_type": "execute_result"
    }
   ],
   "source": [
    "target\n"
   ],
   "metadata": {
    "collapsed": false,
    "pycharm": {
     "name": "#%%\n"
    }
   }
  },
  {
   "cell_type": "code",
   "execution_count": 28,
   "outputs": [],
   "source": [
    "from sklearn.linear_model import LinearRegression\n"
   ],
   "metadata": {
    "collapsed": false,
    "pycharm": {
     "name": "#%%\n"
    }
   }
  },
  {
   "cell_type": "code",
   "execution_count": 29,
   "outputs": [],
   "source": [
    "lin_reg = LinearRegression()\n"
   ],
   "metadata": {
    "collapsed": false,
    "pycharm": {
     "name": "#%%\n"
    }
   }
  },
  {
   "cell_type": "code",
   "execution_count": 30,
   "outputs": [
    {
     "data": {
      "text/plain": "LinearRegression()"
     },
     "execution_count": 30,
     "metadata": {},
     "output_type": "execute_result"
    }
   ],
   "source": [
    "lin_reg.fit(atributos, target)\n",
    "\n"
   ],
   "metadata": {
    "collapsed": false,
    "pycharm": {
     "name": "#%%\n"
    }
   }
  },
  {
   "cell_type": "code",
   "execution_count": 31,
   "outputs": [
    {
     "data": {
      "text/plain": "array([ 24.59450297,  40.96581245,  37.1618925 , 121.42679886,\n        23.32974383, 118.76314884, 103.21573984,  64.41150841,\n        15.35083123,  59.60560613, 161.0199232 , -11.98434935,\n       -10.94466632,  59.05445268,   1.81080813, 229.78061765,\n        -1.16630061,  34.03798752,  10.04556064,  27.60701489,\n        -4.95134141,  82.77047988,  82.51561352,  55.52015092,\n       127.43072562, 112.93548868, -12.2452712 ,   2.64763113,\n        -9.64333323,  32.95437454,  -7.68472488,  -0.51972248,\n        84.12157158, 134.55440573, -12.69846297,  57.89406017,\n        70.5889875 , 191.18946538, -11.64690813,  46.58067263,\n        61.46029063, -12.73244256, -12.75096615,  79.35974945,\n       -12.56236429, 134.38895295, -11.62366602,  16.36491685,\n       -11.8235204 ,  27.48715951,   0.85553244,  42.50092787,\n       206.43793689, -12.42254287, 125.47030773,  21.06867488,\n        -1.80104742,  28.36957115, 160.38508199,  -1.93646423,\n       160.53621786, 125.00651176,  -8.98125733,  17.99625255,\n        45.32453051, -12.60940801,  11.30311664, 179.76228456,\n        55.99252899, -10.72778943,  14.84144095, -11.05635163,\n        -6.09364362,  10.3401194 ,  91.76813744, -10.78343609,\n       -10.8699788 , 158.37648156,  70.15959598, 107.47738896,\n        15.34527833,  90.94731375,   4.83661045,  14.23749331,\n        -0.51399446, 116.30677716, 187.68709172,   6.80728538,\n        -3.47644852, -10.70026824, -11.99190751, 148.21159885,\n        -2.78002779, 187.46056535,  93.48653113, 140.86608186,\n        43.74783611, 114.9408088 ,  39.82216353,  12.72369757])"
     },
     "execution_count": 31,
     "metadata": {},
     "output_type": "execute_result"
    }
   ],
   "source": [
    "lin_reg.predict(atributos)"
   ],
   "metadata": {
    "collapsed": false,
    "pycharm": {
     "name": "#%%\n"
    }
   }
  },
  {
   "cell_type": "code",
   "execution_count": 32,
   "outputs": [
    {
     "data": {
      "text/plain": "(-9.787476847958622, array([0.        , 4.8685162 , 1.98538975]))"
     },
     "execution_count": 32,
     "metadata": {},
     "output_type": "execute_result"
    }
   ],
   "source": [
    "lin_reg.intercept_, lin_reg.coef_"
   ],
   "metadata": {
    "collapsed": false,
    "pycharm": {
     "name": "#%%\n"
    }
   }
  },
  {
   "cell_type": "code",
   "execution_count": 33,
   "outputs": [
    {
     "data": {
      "text/plain": "<matplotlib.collections.PathCollection at 0x7fa205e78310>"
     },
     "execution_count": 33,
     "metadata": {},
     "output_type": "execute_result"
    },
    {
     "data": {
      "text/plain": "<Figure size 432x288 with 1 Axes>",
      "image/png": "[encoded data removed]"
     },
     "metadata": {
      "needs_background": "light"
     },
     "output_type": "display_data"
    }
   ],
   "source": [
    "plt.scatter(x, y)\n",
    "plt.scatter(x, lin_reg.predict(atributos))"
   ],
   "metadata": {
    "collapsed": false,
    "pycharm": {
     "name": "#%%\n"
    }
   }
  },
  {
   "cell_type": "code",
   "execution_count": 33,
   "outputs": [],
   "source": [],
   "metadata": {
    "collapsed": false,
    "pycharm": {
     "name": "#%%\n"
    }
   }
  },
  {
   "cell_type": "code",
   "execution_count": null,
   "outputs": [],
   "source": [],
   "metadata": {
    "collapsed": false,
    "pycharm": {
     "name": "#%%\n"
    }
   }
  }
 ],
 "metadata": {
  "kernelspec": {
   "display_name": "Python 3",
   "language": "python",
   "name": "python3"
  },
  "language_info": {
   "codemirror_mode": {
    "name": "ipython",
    "version": 2
   },
   "file_extension": ".py",
   "mimetype": "text/x-python",
   "name": "python",
   "nbconvert_exporter": "python",
   "pygments_lexer": "ipython2",
   "version": "2.7.6"
  }
 },
 "nbformat": 4,
 "nbformat_minor": 0
}