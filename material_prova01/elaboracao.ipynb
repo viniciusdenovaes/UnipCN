{
 "cells": [
  {
   "cell_type": "code",
   "execution_count": 1,
   "outputs": [],
   "source": [
    "from typing import Callable\n",
    "\n",
    "import pandas as pd\n",
    "import numpy as np\n",
    "import matplotlib.pyplot as plt\n"
   ],
   "metadata": {
    "collapsed": false,
    "pycharm": {
     "name": "#%%\n"
    }
   }
  },
  {
   "cell_type": "code",
   "execution_count": 2,
   "outputs": [],
   "source": [
    "def metodo_bisseccao(f: Callable[[float], float],\n",
    "                     a: float, b: float,\n",
    "                     e: float)-> float:\n",
    "    meio = (a+b)/2\n",
    "    print(f'meio = {meio}, f(meio) = {f(meio)}, abs(f(meio)) = {abs(f(meio))}')\n",
    "    if abs(f(meio)) < e:\n",
    "        return meio\n",
    "    if f(meio)*f(b) < 0:\n",
    "        a = meio\n",
    "    else:\n",
    "        b = meio\n",
    "    return metodo_bisseccao(f, a, b, e)"
   ],
   "metadata": {
    "collapsed": false,
    "pycharm": {
     "name": "#%%\n"
    }
   }
  },
  {
   "cell_type": "code",
   "execution_count": 3,
   "outputs": [],
   "source": [
    "class F:\n",
    "    def __init__(self, a, b):\n",
    "        self.a = a\n",
    "        self.b = b\n",
    "\n",
    "    def f(self, x):\n",
    "        return self.a*x+self.b\n",
    "\n",
    "    def __str__(self):\n",
    "        return f'{self.a}x + {self.b}'"
   ],
   "metadata": {
    "collapsed": false,
    "pycharm": {
     "name": "#%%\n"
    }
   }
  },
  {
   "cell_type": "code",
   "execution_count": 4,
   "outputs": [],
   "source": [
    "f = F(2, -5)"
   ],
   "metadata": {
    "collapsed": false,
    "pycharm": {
     "name": "#%%\n"
    }
   }
  },
  {
   "cell_type": "code",
   "execution_count": 5,
   "outputs": [
    {
     "name": "stdout",
     "output_type": "stream",
     "text": [
      "meio = 3.0, f(meio) = 1.0, abs(f(meio)) = 1.0\n",
      "meio = 1.0, f(meio) = -3.0, abs(f(meio)) = 3.0\n",
      "meio = 2.0, f(meio) = -1.0, abs(f(meio)) = 1.0\n",
      "meio = 2.5, f(meio) = 0.0, abs(f(meio)) = 0.0\n"
     ]
    },
    {
     "data": {
      "text/plain": "2.5"
     },
     "execution_count": 5,
     "metadata": {},
     "output_type": "execute_result"
    }
   ],
   "source": [
    "metodo_bisseccao(f.f, -1, 7, 0.6)"
   ],
   "metadata": {
    "collapsed": false,
    "pycharm": {
     "name": "#%%\n"
    }
   }
  },
  {
   "cell_type": "code",
   "execution_count": 6,
   "outputs": [
    {
     "data": {
      "text/plain": "'2x + -5'"
     },
     "execution_count": 6,
     "metadata": {},
     "output_type": "execute_result"
    }
   ],
   "source": [
    "str(f)"
   ],
   "metadata": {
    "collapsed": false,
    "pycharm": {
     "name": "#%%\n"
    }
   }
  },
  {
   "cell_type": "code",
   "execution_count": 7,
   "outputs": [],
   "source": [
    "f = f.f"
   ],
   "metadata": {
    "collapsed": false,
    "pycharm": {
     "name": "#%%\n"
    }
   }
  },
  {
   "cell_type": "code",
   "execution_count": 8,
   "outputs": [],
   "source": [
    "x_exemplo = [-2, -2, 0, 0, 1, 1]\n",
    "y_exemplo = [\n",
    "    f(x_exemplo[0]) + 2,\n",
    "    f(x_exemplo[1]) - 2,\n",
    "    f(x_exemplo[2]) + 1,\n",
    "    f(x_exemplo[3]) - 1,\n",
    "    f(x_exemplo[4]) + 3,\n",
    "    f(x_exemplo[5]) - 3,\n",
    "]\n",
    "x_exemplo = np.array(x_exemplo)\n",
    "y_exemplo = np.array(y_exemplo)"
   ],
   "metadata": {
    "collapsed": false,
    "pycharm": {
     "name": "#%%\n"
    }
   }
  },
  {
   "cell_type": "code",
   "execution_count": 9,
   "outputs": [
    {
     "data": {
      "text/plain": "<matplotlib.collections.PathCollection at 0x7fb846617130>"
     },
     "execution_count": 9,
     "metadata": {},
     "output_type": "execute_result"
    },
    {
     "data": {
      "text/plain": "<Figure size 640x480 with 1 Axes>",
      "image/png": "[encoded data removed]"
     },
     "metadata": {},
     "output_type": "display_data"
    }
   ],
   "source": [
    "plt.scatter(x_exemplo, y_exemplo)\n"
   ],
   "metadata": {
    "collapsed": false,
    "pycharm": {
     "name": "#%%\n"
    }
   }
  },
  {
   "cell_type": "code",
   "execution_count": 10,
   "outputs": [
    {
     "data": {
      "text/plain": "array([[ -2,  -7],\n       [ -2, -11],\n       [  0,  -4],\n       [  0,  -6],\n       [  1,   0],\n       [  1,  -6]])"
     },
     "execution_count": 10,
     "metadata": {},
     "output_type": "execute_result"
    }
   ],
   "source": [
    "np.c_[x_exemplo, y_exemplo]"
   ],
   "metadata": {
    "collapsed": false,
    "pycharm": {
     "name": "#%%\n"
    }
   }
  },
  {
   "cell_type": "code",
   "execution_count": 11,
   "outputs": [
    {
     "data": {
      "text/plain": "array([-2, -2,  0,  0,  1,  1])"
     },
     "execution_count": 11,
     "metadata": {},
     "output_type": "execute_result"
    }
   ],
   "source": [
    "x_exemplo"
   ],
   "metadata": {
    "collapsed": false,
    "pycharm": {
     "name": "#%%\n"
    }
   }
  },
  {
   "cell_type": "code",
   "execution_count": 12,
   "outputs": [
    {
     "data": {
      "text/plain": "array([ -7, -11,  -4,  -6,   0,  -6])"
     },
     "execution_count": 12,
     "metadata": {},
     "output_type": "execute_result"
    }
   ],
   "source": [
    "y_exemplo"
   ],
   "metadata": {
    "collapsed": false,
    "pycharm": {
     "name": "#%%\n"
    }
   }
  },
  {
   "cell_type": "code",
   "execution_count": 13,
   "outputs": [
    {
     "data": {
      "text/plain": "-34"
     },
     "execution_count": 13,
     "metadata": {},
     "output_type": "execute_result"
    }
   ],
   "source": [
    "sum(y_exemplo)"
   ],
   "metadata": {
    "collapsed": false,
    "pycharm": {
     "name": "#%%\n"
    }
   }
  },
  {
   "cell_type": "markdown",
   "source": [
    "```\n",
    "a1 para g_1(x) = x\n",
    "a0 para g_0(x) = 1\n",
    "```"
   ],
   "metadata": {
    "collapsed": false
   }
  },
  {
   "cell_type": "code",
   "execution_count": 14,
   "outputs": [],
   "source": [
    "def g1(x):return x\n",
    "def g0(x):return np.ones(len(x))\n"
   ],
   "metadata": {
    "collapsed": false,
    "pycharm": {
     "name": "#%%\n"
    }
   }
  },
  {
   "cell_type": "code",
   "execution_count": 15,
   "outputs": [],
   "source": [
    "xe = x_exemplo\n",
    "ye = y_exemplo"
   ],
   "metadata": {
    "collapsed": false,
    "pycharm": {
     "name": "#%%\n"
    }
   }
  },
  {
   "cell_type": "code",
   "execution_count": 16,
   "outputs": [],
   "source": [
    "a00 = sum(g0(xe)*g0(xe))\n",
    "a01 = sum(g0(xe)*g1(xe))\n",
    "a10 = sum(g1(xe)*g0(xe))\n",
    "a11 = sum(g1(xe)*g1(xe))\n"
   ],
   "metadata": {
    "collapsed": false,
    "pycharm": {
     "name": "#%%\n"
    }
   }
  },
  {
   "cell_type": "code",
   "execution_count": 17,
   "outputs": [],
   "source": [
    "b0 = sum(ye*g0(xe))\n",
    "b1 = sum(ye*g1(xe))\n"
   ],
   "metadata": {
    "collapsed": false,
    "pycharm": {
     "name": "#%%\n"
    }
   }
  },
  {
   "cell_type": "code",
   "execution_count": 18,
   "outputs": [],
   "source": [
    "a = np.array([\n",
    "    [a00, a01],\n",
    "    [a10, a11],\n",
    "])"
   ],
   "metadata": {
    "collapsed": false,
    "pycharm": {
     "name": "#%%\n"
    }
   }
  },
  {
   "cell_type": "code",
   "execution_count": 19,
   "outputs": [],
   "source": [
    "b = np.array([b0, b1])"
   ],
   "metadata": {
    "collapsed": false,
    "pycharm": {
     "name": "#%%\n"
    }
   }
  },
  {
   "cell_type": "code",
   "execution_count": 20,
   "outputs": [
    {
     "data": {
      "text/plain": "array([[ 6., -2.],\n       [-2., 10.]])"
     },
     "execution_count": 20,
     "metadata": {},
     "output_type": "execute_result"
    }
   ],
   "source": [
    "a"
   ],
   "metadata": {
    "collapsed": false,
    "pycharm": {
     "name": "#%%\n"
    }
   }
  },
  {
   "cell_type": "code",
   "execution_count": 21,
   "outputs": [
    {
     "data": {
      "text/plain": "array([-34.,  30.])"
     },
     "execution_count": 21,
     "metadata": {},
     "output_type": "execute_result"
    }
   ],
   "source": [
    "b"
   ],
   "metadata": {
    "collapsed": false,
    "pycharm": {
     "name": "#%%\n"
    }
   }
  },
  {
   "cell_type": "markdown",
   "source": [
    "## Resolvedor de equações lineares do numpy"
   ],
   "metadata": {
    "collapsed": false,
    "pycharm": {
     "name": "#%% md\n"
    }
   }
  },
  {
   "cell_type": "code",
   "execution_count": 22,
   "outputs": [],
   "source": [
    "alpha = np.linalg.solve(a, b)"
   ],
   "metadata": {
    "collapsed": false,
    "pycharm": {
     "name": "#%%\n"
    }
   }
  },
  {
   "cell_type": "code",
   "execution_count": 23,
   "outputs": [
    {
     "data": {
      "text/plain": "array([-5.,  2.])"
     },
     "execution_count": 23,
     "metadata": {},
     "output_type": "execute_result"
    }
   ],
   "source": [
    "alpha"
   ],
   "metadata": {
    "collapsed": false,
    "pycharm": {
     "name": "#%%\n"
    }
   }
  },
  {
   "cell_type": "code",
   "execution_count": 24,
   "outputs": [],
   "source": [
    "xe_ls = np.linspace(-2, 1, 100)\n",
    "f_exemplo = alpha[0]*g0(xe_ls) + alpha[1]*g1(xe_ls)"
   ],
   "metadata": {
    "collapsed": false,
    "pycharm": {
     "name": "#%%\n"
    }
   }
  },
  {
   "cell_type": "code",
   "execution_count": 25,
   "outputs": [
    {
     "data": {
      "text/plain": "<Figure size 640x480 with 1 Axes>",
      "image/png": "[encoded data removed]"
     },
     "metadata": {},
     "output_type": "display_data"
    }
   ],
   "source": [
    "plt.plot(xe_ls, f_exemplo)\n",
    "plt.scatter(x_exemplo, y_exemplo)\n",
    "plt.savefig('q_01')\n"
   ],
   "metadata": {
    "collapsed": false,
    "pycharm": {
     "name": "#%%\n"
    }
   }
  },
  {
   "cell_type": "markdown",
   "source": [
    "## Regressor linear do sklearn\n",
    "\n"
   ],
   "metadata": {
    "collapsed": false,
    "pycharm": {
     "name": "#%% md\n"
    }
   }
  },
  {
   "cell_type": "code",
   "execution_count": 74,
   "outputs": [],
   "source": [
    "x_min = -10\n",
    "x_max = 10\n",
    "x_range = x_max - x_min"
   ],
   "metadata": {
    "collapsed": false,
    "pycharm": {
     "name": "#%%\n"
    }
   }
  },
  {
   "cell_type": "code",
   "execution_count": 75,
   "outputs": [],
   "source": [
    "x_size = 100\n",
    "x = x_min + np.random.rand(x_size)*x_range"
   ],
   "metadata": {
    "collapsed": false,
    "pycharm": {
     "name": "#%%\n"
    }
   }
  },
  {
   "cell_type": "code",
   "execution_count": 76,
   "outputs": [
    {
     "data": {
      "text/plain": "array([ 8.06211478,  7.966679  ,  4.57527201,  4.1756229 , -4.79801109,\n        4.23675425, -9.61593465,  0.17740659, -9.74198508,  8.20149041,\n       -7.67920831, -3.75290161,  7.77998695, -5.22664845, -4.68705723,\n       -3.05642775,  6.19311293, -8.90557396, -8.94660742, -3.0725574 ,\n       -9.89492007,  5.85093319,  5.87008595, -4.62806856, -9.64932531,\n       -4.1644596 , -8.60151789,  1.84056892, -0.72268845, -1.32967498,\n        8.08854348, -5.60461382, -9.69812663,  5.3711202 ,  9.55408787,\n        3.18553088,  1.02829258, -3.64270707,  8.86191924,  1.78576897,\n        1.94340158,  3.68172321,  6.66270168,  9.94864346,  2.67897809,\n       -4.81011615,  8.45072103,  5.52499023, -7.79547071,  0.59748576,\n       -2.95706777, -9.05484093,  2.97314394, -9.02473644, -8.36507952,\n       -2.90307692, -9.02104516,  5.66171919, -6.27875043, -1.82880959,\n        7.08244466, -2.81425917, -9.270135  ,  9.84675033,  2.588568  ,\n       -0.26948984, -6.44579928, -7.81629852, -5.93808611, -1.15785333,\n       -8.26862985,  7.13034581, -8.93107754, -4.81294651, -8.10819419,\n        9.99695107, -3.9089359 ,  4.44796744,  8.62681871,  6.96581887,\n       -8.32248617,  8.96150138,  1.63325176, -6.08722437, -7.81573646,\n       -5.89959807,  6.62434987,  7.78911881,  1.8970362 , -2.6827381 ,\n        1.71383846,  9.71236053, -8.16224746,  5.04413303, -6.39806219,\n       -2.01892987,  7.61830255,  3.32237346, -6.37158404, -6.59338565])"
     },
     "execution_count": 76,
     "metadata": {},
     "output_type": "execute_result"
    }
   ],
   "source": [
    "x\n"
   ],
   "metadata": {
    "collapsed": false,
    "pycharm": {
     "name": "#%%\n"
    }
   }
  },
  {
   "cell_type": "code",
   "execution_count": 77,
   "outputs": [],
   "source": [
    "y = f(x) + 2*np.random.randn(x_size)"
   ],
   "metadata": {
    "collapsed": false,
    "pycharm": {
     "name": "#%%\n"
    }
   }
  },
  {
   "cell_type": "code",
   "execution_count": 78,
   "outputs": [],
   "source": [
    "x_real = np.linspace(x_min, x_max, 100)\n",
    "y_real = f(x_real)"
   ],
   "metadata": {
    "collapsed": false,
    "pycharm": {
     "name": "#%%\n"
    }
   }
  },
  {
   "cell_type": "code",
   "execution_count": 79,
   "outputs": [
    {
     "data": {
      "text/plain": "<matplotlib.collections.PathCollection at 0x7fb81fd1a7c0>"
     },
     "execution_count": 79,
     "metadata": {},
     "output_type": "execute_result"
    },
    {
     "data": {
      "text/plain": "<Figure size 640x480 with 1 Axes>",
      "image/png": "[encoded data removed]"
     },
     "metadata": {},
     "output_type": "display_data"
    }
   ],
   "source": [
    "plt.plot(x_real, y_real, 'r')\n",
    "plt.scatter(x=x, y=y)\n",
    "\n"
   ],
   "metadata": {
    "collapsed": false,
    "pycharm": {
     "name": "#%%\n"
    }
   }
  },
  {
   "cell_type": "code",
   "execution_count": 80,
   "outputs": [
    {
     "data": {
      "text/plain": "<matplotlib.collections.PathCollection at 0x7fb81fc5ee20>"
     },
     "execution_count": 80,
     "metadata": {},
     "output_type": "execute_result"
    },
    {
     "data": {
      "text/plain": "<Figure size 640x480 with 1 Axes>",
      "image/png": "[encoded data removed]"
     },
     "metadata": {},
     "output_type": "display_data"
    }
   ],
   "source": [
    "plt.scatter(x, y)"
   ],
   "metadata": {
    "collapsed": false,
    "pycharm": {
     "name": "#%%\n"
    }
   }
  },
  {
   "cell_type": "code",
   "execution_count": 81,
   "outputs": [],
   "source": [
    "atributos = np.c_[g0(x), g1(x)]\n",
    "target = y"
   ],
   "metadata": {
    "collapsed": false,
    "pycharm": {
     "name": "#%%\n"
    }
   }
  },
  {
   "cell_type": "code",
   "execution_count": 82,
   "outputs": [
    {
     "data": {
      "text/plain": "array([[ 1.        ,  8.06211478],\n       [ 1.        ,  7.966679  ],\n       [ 1.        ,  4.57527201],\n       [ 1.        ,  4.1756229 ],\n       [ 1.        , -4.79801109],\n       [ 1.        ,  4.23675425],\n       [ 1.        , -9.61593465],\n       [ 1.        ,  0.17740659],\n       [ 1.        , -9.74198508],\n       [ 1.        ,  8.20149041],\n       [ 1.        , -7.67920831],\n       [ 1.        , -3.75290161],\n       [ 1.        ,  7.77998695],\n       [ 1.        , -5.22664845],\n       [ 1.        , -4.68705723],\n       [ 1.        , -3.05642775],\n       [ 1.        ,  6.19311293],\n       [ 1.        , -8.90557396],\n       [ 1.        , -8.94660742],\n       [ 1.        , -3.0725574 ],\n       [ 1.        , -9.89492007],\n       [ 1.        ,  5.85093319],\n       [ 1.        ,  5.87008595],\n       [ 1.        , -4.62806856],\n       [ 1.        , -9.64932531],\n       [ 1.        , -4.1644596 ],\n       [ 1.        , -8.60151789],\n       [ 1.        ,  1.84056892],\n       [ 1.        , -0.72268845],\n       [ 1.        , -1.32967498],\n       [ 1.        ,  8.08854348],\n       [ 1.        , -5.60461382],\n       [ 1.        , -9.69812663],\n       [ 1.        ,  5.3711202 ],\n       [ 1.        ,  9.55408787],\n       [ 1.        ,  3.18553088],\n       [ 1.        ,  1.02829258],\n       [ 1.        , -3.64270707],\n       [ 1.        ,  8.86191924],\n       [ 1.        ,  1.78576897],\n       [ 1.        ,  1.94340158],\n       [ 1.        ,  3.68172321],\n       [ 1.        ,  6.66270168],\n       [ 1.        ,  9.94864346],\n       [ 1.        ,  2.67897809],\n       [ 1.        , -4.81011615],\n       [ 1.        ,  8.45072103],\n       [ 1.        ,  5.52499023],\n       [ 1.        , -7.79547071],\n       [ 1.        ,  0.59748576],\n       [ 1.        , -2.95706777],\n       [ 1.        , -9.05484093],\n       [ 1.        ,  2.97314394],\n       [ 1.        , -9.02473644],\n       [ 1.        , -8.36507952],\n       [ 1.        , -2.90307692],\n       [ 1.        , -9.02104516],\n       [ 1.        ,  5.66171919],\n       [ 1.        , -6.27875043],\n       [ 1.        , -1.82880959],\n       [ 1.        ,  7.08244466],\n       [ 1.        , -2.81425917],\n       [ 1.        , -9.270135  ],\n       [ 1.        ,  9.84675033],\n       [ 1.        ,  2.588568  ],\n       [ 1.        , -0.26948984],\n       [ 1.        , -6.44579928],\n       [ 1.        , -7.81629852],\n       [ 1.        , -5.93808611],\n       [ 1.        , -1.15785333],\n       [ 1.        , -8.26862985],\n       [ 1.        ,  7.13034581],\n       [ 1.        , -8.93107754],\n       [ 1.        , -4.81294651],\n       [ 1.        , -8.10819419],\n       [ 1.        ,  9.99695107],\n       [ 1.        , -3.9089359 ],\n       [ 1.        ,  4.44796744],\n       [ 1.        ,  8.62681871],\n       [ 1.        ,  6.96581887],\n       [ 1.        , -8.32248617],\n       [ 1.        ,  8.96150138],\n       [ 1.        ,  1.63325176],\n       [ 1.        , -6.08722437],\n       [ 1.        , -7.81573646],\n       [ 1.        , -5.89959807],\n       [ 1.        ,  6.62434987],\n       [ 1.        ,  7.78911881],\n       [ 1.        ,  1.8970362 ],\n       [ 1.        , -2.6827381 ],\n       [ 1.        ,  1.71383846],\n       [ 1.        ,  9.71236053],\n       [ 1.        , -8.16224746],\n       [ 1.        ,  5.04413303],\n       [ 1.        , -6.39806219],\n       [ 1.        , -2.01892987],\n       [ 1.        ,  7.61830255],\n       [ 1.        ,  3.32237346],\n       [ 1.        , -6.37158404],\n       [ 1.        , -6.59338565]])"
     },
     "execution_count": 82,
     "metadata": {},
     "output_type": "execute_result"
    }
   ],
   "source": [
    "atributos\n"
   ],
   "metadata": {
    "collapsed": false,
    "pycharm": {
     "name": "#%%\n"
    }
   }
  },
  {
   "cell_type": "code",
   "execution_count": 83,
   "outputs": [
    {
     "data": {
      "text/plain": "array([ 1.46343449e+01,  1.04136424e+01,  5.57230734e+00,  1.44405477e+00,\n       -1.66592510e+01,  1.97844488e+00, -2.27875289e+01, -1.71515502e+00,\n       -2.22132661e+01,  1.09933632e+01, -2.11526155e+01, -1.57104979e+01,\n        1.11539116e+01, -1.60858230e+01, -1.13828138e+01, -9.93211960e+00,\n        6.22424765e+00, -2.39238852e+01, -2.34759323e+01, -1.19718377e+01,\n       -2.61296976e+01,  6.63932062e+00,  8.39713395e+00, -1.46668888e+01,\n       -2.40919947e+01, -1.31158788e+01, -2.15656363e+01, -1.34820304e+00,\n       -5.16489813e+00, -7.15491432e+00,  9.11990548e+00, -1.59687943e+01,\n       -2.73164714e+01,  7.86502361e+00,  1.35414245e+01,  2.56836948e+00,\n       -1.61929944e+00, -1.31018207e+01,  1.36327521e+01, -2.44657892e-02,\n       -2.52862514e+00,  2.42060382e+00,  7.27007996e+00,  1.38376658e+01,\n       -6.69649129e-01, -1.45347400e+01,  1.23453051e+01,  7.26480698e+00,\n       -1.89823476e+01, -3.54465893e+00, -1.08119886e+01, -2.21268371e+01,\n       -1.53942552e+00, -2.42837909e+01, -2.04430254e+01, -1.09199144e+01,\n       -2.48549159e+01,  1.54627722e+00, -1.55842552e+01, -1.10779823e+01,\n        6.83399981e+00, -1.40404140e+01, -2.21655707e+01,  1.65222964e+01,\n       -5.84858637e-02, -6.13283317e+00, -1.81881104e+01, -2.28065040e+01,\n       -1.94253417e+01, -5.03340476e+00, -1.78760868e+01,  8.16545263e+00,\n       -2.46956538e+01, -1.11428057e+01, -2.08986870e+01,  1.55041693e+01,\n       -1.39015434e+01,  8.02002122e+00,  1.40676428e+01,  1.03497738e+01,\n       -2.13372450e+01,  1.14438330e+01, -3.82721821e+00, -1.51700620e+01,\n       -2.12951010e+01, -1.68608023e+01,  8.90661859e+00,  1.07203624e+01,\n       -2.12904266e+00, -8.00001476e+00,  6.48698570e-01,  1.27096478e+01,\n       -2.11455662e+01,  3.29190826e+00, -1.63311828e+01, -1.06011637e+01,\n        1.07183509e+01,  2.27045897e+00, -1.81947828e+01, -1.58384994e+01])"
     },
     "execution_count": 83,
     "metadata": {},
     "output_type": "execute_result"
    }
   ],
   "source": [
    "target\n"
   ],
   "metadata": {
    "collapsed": false,
    "pycharm": {
     "name": "#%%\n"
    }
   }
  },
  {
   "cell_type": "code",
   "execution_count": 84,
   "outputs": [],
   "source": [
    "from sklearn.linear_model import LinearRegression\n"
   ],
   "metadata": {
    "collapsed": false,
    "pycharm": {
     "name": "#%%\n"
    }
   }
  },
  {
   "cell_type": "code",
   "execution_count": 85,
   "outputs": [],
   "source": [
    "lin_reg = LinearRegression()\n"
   ],
   "metadata": {
    "collapsed": false,
    "pycharm": {
     "name": "#%%\n"
    }
   }
  },
  {
   "cell_type": "code",
   "execution_count": 86,
   "outputs": [
    {
     "data": {
      "text/plain": "LinearRegression()",
      "text/html": "<style>#sk-container-id-4 {color: black;background-color: white;}#sk-container-id-4 pre{padding: 0;}#sk-container-id-4 div.sk-toggleable {background-color: white;}#sk-container-id-4 label.sk-toggleable__label {cursor: pointer;display: block;width: 100%;margin-bottom: 0;padding: 0.3em;box-sizing: border-box;text-align: center;}#sk-container-id-4 label.sk-toggleable__label-arrow:before {content: \"▸\";float: left;margin-right: 0.25em;color: #696969;}#sk-container-id-4 label.sk-toggleable__label-arrow:hover:before {color: black;}#sk-container-id-4 div.sk-estimator:hover label.sk-toggleable__label-arrow:before {color: black;}#sk-container-id-4 div.sk-toggleable__content {max-height: 0;max-width: 0;overflow: hidden;text-align: left;background-color: #f0f8ff;}#sk-container-id-4 div.sk-toggleable__content pre {margin: 0.2em;color: black;border-radius: 0.25em;background-color: #f0f8ff;}#sk-container-id-4 input.sk-toggleable__control:checked~div.sk-toggleable__content {max-height: 200px;max-width: 100%;overflow: auto;}#sk-container-id-4 input.sk-toggleable__control:checked~label.sk-toggleable__label-arrow:before {content: \"▾\";}#sk-container-id-4 div.sk-estimator input.sk-toggleable__control:checked~label.sk-toggleable__label {background-color: #d4ebff;}#sk-container-id-4 div.sk-label input.sk-toggleable__control:checked~label.sk-toggleable__label {background-color: #d4ebff;}#sk-container-id-4 input.sk-hidden--visually {border: 0;clip: rect(1px 1px 1px 1px);clip: rect(1px, 1px, 1px, 1px);height: 1px;margin: -1px;overflow: hidden;padding: 0;position: absolute;width: 1px;}#sk-container-id-4 div.sk-estimator {font-family: monospace;background-color: #f0f8ff;border: 1px dotted black;border-radius: 0.25em;box-sizing: border-box;margin-bottom: 0.5em;}#sk-container-id-4 div.sk-estimator:hover {background-color: #d4ebff;}#sk-container-id-4 div.sk-parallel-item::after {content: \"\";width: 100%;border-bottom: 1px solid gray;flex-grow: 1;}#sk-container-id-4 div.sk-label:hover label.sk-toggleable__label {background-color: #d4ebff;}#sk-container-id-4 div.sk-serial::before {content: \"\";position: absolute;border-left: 1px solid gray;box-sizing: border-box;top: 0;bottom: 0;left: 50%;z-index: 0;}#sk-container-id-4 div.sk-serial {display: flex;flex-direction: column;align-items: center;background-color: white;padding-right: 0.2em;padding-left: 0.2em;position: relative;}#sk-container-id-4 div.sk-item {position: relative;z-index: 1;}#sk-container-id-4 div.sk-parallel {display: flex;align-items: stretch;justify-content: center;background-color: white;position: relative;}#sk-container-id-4 div.sk-item::before, #sk-container-id-4 div.sk-parallel-item::before {content: \"\";position: absolute;border-left: 1px solid gray;box-sizing: border-box;top: 0;bottom: 0;left: 50%;z-index: -1;}#sk-container-id-4 div.sk-parallel-item {display: flex;flex-direction: column;z-index: 1;position: relative;background-color: white;}#sk-container-id-4 div.sk-parallel-item:first-child::after {align-self: flex-end;width: 50%;}#sk-container-id-4 div.sk-parallel-item:last-child::after {align-self: flex-start;width: 50%;}#sk-container-id-4 div.sk-parallel-item:only-child::after {width: 0;}#sk-container-id-4 div.sk-dashed-wrapped {border: 1px dashed gray;margin: 0 0.4em 0.5em 0.4em;box-sizing: border-box;padding-bottom: 0.4em;background-color: white;}#sk-container-id-4 div.sk-label label {font-family: monospace;font-weight: bold;display: inline-block;line-height: 1.2em;}#sk-container-id-4 div.sk-label-container {text-align: center;}#sk-container-id-4 div.sk-container {/* jupyter's `normalize.less` sets `[hidden] { display: none; }` but bootstrap.min.css set `[hidden] { display: none !important; }` so we also need the `!important` here to be able to override the default hidden behavior on the sphinx rendered scikit-learn.org. See: https://github.com/scikit-learn/scikit-learn/issues/21755 */display: inline-block !important;position: relative;}#sk-container-id-4 div.sk-text-repr-fallback {display: none;}</style><div id=\"sk-container-id-4\" class=\"sk-top-container\"><div class=\"sk-text-repr-fallback\"><pre>LinearRegression()</pre><b>In a Jupyter environment, please rerun this cell to show the HTML representation or trust the notebook. <br />On GitHub, the HTML representation is unable to render, please try loading this page with nbviewer.org.</b></div><div class=\"sk-container\" hidden><div class=\"sk-item\"><div class=\"sk-estimator sk-toggleable\"><input class=\"sk-toggleable__control sk-hidden--visually\" id=\"sk-estimator-id-4\" type=\"checkbox\" checked><label for=\"sk-estimator-id-4\" class=\"sk-toggleable__label sk-toggleable__label-arrow\">LinearRegression</label><div class=\"sk-toggleable__content\"><pre>LinearRegression()</pre></div></div></div></div></div>"
     },
     "execution_count": 86,
     "metadata": {},
     "output_type": "execute_result"
    }
   ],
   "source": [
    "lin_reg.fit(atributos, target)\n",
    "\n"
   ],
   "metadata": {
    "collapsed": false,
    "pycharm": {
     "name": "#%%\n"
    }
   }
  },
  {
   "cell_type": "code",
   "execution_count": 87,
   "outputs": [
    {
     "data": {
      "text/plain": "array([ 11.10036534,  10.91009027,   4.14847327,   3.35167293,\n       -14.53950802,   3.47355355, -24.14524213,  -4.61977003,\n       -24.39655517,  11.37824548, -20.2838944 , -12.4558212 ,\n        10.53787304, -15.39410367, -14.31829378, -11.06722658,\n         7.37404328, -22.72896066, -22.81077111, -11.09938508,\n       -24.70146926,   6.69182249,   6.7300083 , -14.20068513,\n       -24.21181476, -13.27636485, -22.12274892,  -1.30384047,\n        -6.41433432,  -7.6245136 ,  11.15305756, -16.14767204,\n       -24.30911239,   5.73519544,  14.07498638,   1.37767716,\n        -2.92331625, -12.23612085,  12.69497531,  -1.41309786,\n        -1.09881786,   2.36696054,   8.31028576,  14.86163151,\n         0.36773765, -14.56364248,  11.87514897,   6.04197377,\n       -20.51569252,  -3.78223726, -10.86912765, -23.02656165,\n         0.95423076, -22.96654083, -21.65134998, -10.76148339,\n       -22.95918133,   6.31457712, -17.49173178,  -8.61966312,\n         9.14714823, -10.58440303, -23.45580416,  14.65848212,\n         0.18748256,  -5.51076968, -17.82478538, -20.55721796,\n       -16.81253237,  -7.28194422, -21.45905346,   9.24265115,\n       -22.77980842, -14.56928551, -21.13918491,  14.9579448 ,\n       -12.76691453,   3.89465982,  12.22624369,   8.91462559,\n       -21.56642949,  12.89351719,  -1.717179  , -17.10987674,\n       -20.55609737, -16.73579683,   8.23382184,  10.55607969,\n        -1.19125884, -10.32218293,  -1.5565093 ,  14.39054247,\n       -21.2469536 ,   5.08326483, -17.72960957,  -8.9987154 ,\n        10.2155148 ,   1.65050703, -17.67681876, -18.11903568])"
     },
     "execution_count": 87,
     "metadata": {},
     "output_type": "execute_result"
    }
   ],
   "source": [
    "lin_reg.predict(atributos)"
   ],
   "metadata": {
    "collapsed": false,
    "pycharm": {
     "name": "#%%\n"
    }
   }
  },
  {
   "cell_type": "code",
   "execution_count": 88,
   "outputs": [
    {
     "data": {
      "text/plain": "(-4.9734743750614205, array([0.       , 1.9937498]))"
     },
     "execution_count": 88,
     "metadata": {},
     "output_type": "execute_result"
    }
   ],
   "source": [
    "lin_reg.intercept_, lin_reg.coef_"
   ],
   "metadata": {
    "collapsed": false,
    "pycharm": {
     "name": "#%%\n"
    }
   }
  },
  {
   "cell_type": "code",
   "execution_count": 89,
   "outputs": [
    {
     "data": {
      "text/plain": "<matplotlib.collections.PathCollection at 0x7fb81fc88070>"
     },
     "execution_count": 89,
     "metadata": {},
     "output_type": "execute_result"
    },
    {
     "data": {
      "text/plain": "<Figure size 640x480 with 1 Axes>",
      "image/png": "[encoded data removed]"
     },
     "metadata": {},
     "output_type": "display_data"
    }
   ],
   "source": [
    "plt.scatter(x, y)\n",
    "plt.scatter(x, lin_reg.predict(atributos))"
   ],
   "metadata": {
    "collapsed": false,
    "pycharm": {
     "name": "#%%\n"
    }
   }
  },
  {
   "cell_type": "code",
   "execution_count": 89,
   "outputs": [],
   "source": [],
   "metadata": {
    "collapsed": false,
    "pycharm": {
     "name": "#%%\n"
    }
   }
  },
  {
   "cell_type": "code",
   "execution_count": null,
   "outputs": [],
   "source": [],
   "metadata": {
    "collapsed": false,
    "pycharm": {
     "name": "#%%\n"
    }
   }
  }
 ],
 "metadata": {
  "kernelspec": {
   "display_name": "Python 3",
   "language": "python",
   "name": "python3"
  },
  "language_info": {
   "codemirror_mode": {
    "name": "ipython",
    "version": 2
   },
   "file_extension": ".py",
   "mimetype": "text/x-python",
   "name": "python",
   "nbconvert_exporter": "python",
   "pygments_lexer": "ipython2",
   "version": "2.7.6"
  }
 },
 "nbformat": 4,
 "nbformat_minor": 0
}