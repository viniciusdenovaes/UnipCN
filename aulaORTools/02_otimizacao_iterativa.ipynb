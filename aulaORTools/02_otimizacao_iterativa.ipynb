{
 "cells": [
  {
   "cell_type": "markdown",
   "source": [
    "# Otimização\n",
    "Vamos fazer a mesma otimização da aula anterior,\n",
    "mas agora vamos adicionar as variáveis de forma iterativa,\n",
    "a partir de uma lista ou dicionario"
   ],
   "metadata": {
    "collapsed": false,
    "pycharm": {
     "name": "#%% md\n"
    }
   }
  },
  {
   "cell_type": "markdown",
   "source": [
    "Vamos resolver o sistema de duas variáveis:\n",
    "```\n",
    "x > 0\n",
    "y > 0\n",
    "```"
   ],
   "metadata": {
    "collapsed": false
   }
  },
  {
   "cell_type": "code",
   "source": [
    "variaveis_nomes = ['x', 'y']"
   ],
   "metadata": {
    "collapsed": false,
    "pycharm": {
     "name": "#%%\n"
    }
   },
   "execution_count": 59,
   "outputs": []
  },
  {
   "cell_type": "markdown",
   "source": [
    "Com 3 restrições\n",
    "```\n",
    "c0: x + 2y <= 14\n",
    "c1: 3x - y >= 0\n",
    "c2: x - y <= 2\n",
    "```"
   ],
   "metadata": {
    "collapsed": false
   }
  },
  {
   "cell_type": "code",
   "source": [
    "A = [\n",
    "    [1, 2],\n",
    "    [3, -1],\n",
    "    [1, -1],\n",
    "]\n",
    "bs = [14, 0, 2]\n",
    "sinais_restricoes = ['<=', '>=', '<=']"
   ],
   "metadata": {
    "collapsed": false,
    "pycharm": {
     "name": "#%%\n"
    }
   },
   "execution_count": 60,
   "outputs": []
  },
  {
   "cell_type": "markdown",
   "source": [
    "Com o objetivo de maximizar a equação\n",
    "```\n",
    "3x + 4y\n",
    "```"
   ],
   "metadata": {
    "collapsed": false
   }
  },
  {
   "cell_type": "code",
   "source": [
    "obj = [3, 4]"
   ],
   "metadata": {
    "collapsed": false,
    "pycharm": {
     "name": "#%%\n"
    }
   },
   "execution_count": 61,
   "outputs": []
  },
  {
   "cell_type": "code",
   "execution_count": 62,
   "outputs": [],
   "source": [
    "# Importando os pacotes do google ortools para equacoes lineares\n",
    "from ortools.linear_solver import pywraplp"
   ],
   "metadata": {
    "collapsed": false,
    "pycharm": {
     "name": "#%%\n"
    }
   }
  },
  {
   "cell_type": "code",
   "execution_count": 63,
   "metadata": {
    "collapsed": true
   },
   "outputs": [],
   "source": [
    "# Criando o resolvedor\n",
    "solver = pywraplp.Solver.CreateSolver('GLOP')"
   ]
  },
  {
   "cell_type": "code",
   "execution_count": 64,
   "outputs": [],
   "source": [
    "# adicionando as variaveis no resolvedor\n",
    "\n",
    "variaveis = []\n",
    "for nome in variaveis_nomes:\n",
    "    variaveis.append(solver.NumVar(0, solver.infinity(), nome))"
   ],
   "metadata": {
    "collapsed": false,
    "pycharm": {
     "name": "#%%\n"
    }
   }
  },
  {
   "cell_type": "code",
   "execution_count": 65,
   "outputs": [
    {
     "name": "stdout",
     "output_type": "stream",
     "text": [
      "Number of variables = 2\n"
     ]
    }
   ],
   "source": [
    "print('Number of variables =', solver.NumVariables())"
   ],
   "metadata": {
    "collapsed": false,
    "pycharm": {
     "name": "#%%\n"
    }
   }
  },
  {
   "cell_type": "code",
   "execution_count": 66,
   "outputs": [
    {
     "data": {
      "text/plain": "'restricao_004'"
     },
     "execution_count": 66,
     "metadata": {},
     "output_type": "execute_result"
    }
   ],
   "source": [
    "f'restricao_{4:03}'"
   ],
   "metadata": {
    "collapsed": false,
    "pycharm": {
     "name": "#%%\n"
    }
   }
  },
  {
   "cell_type": "code",
   "execution_count": 67,
   "outputs": [],
   "source": [
    "# adicionando restrições\n",
    "\n",
    "restricoes = []\n",
    "\n",
    "for nome, (linha, b, sinal) in enumerate(zip(A, bs, sinais_restricoes)):\n",
    "    nome = f'restricao_{nome:03}'\n",
    "    if sinal == '<=':\n",
    "        c = solver.Constraint(-solver.infinity(), b, nome, )\n",
    "    elif sinal == '>=':\n",
    "        c = solver.Constraint(b, solver.infinity(), nome, )\n",
    "    else:\n",
    "        c = None\n",
    "    for var, a in zip(variaveis, linha):\n",
    "        c.SetCoefficient(var, a)"
   ],
   "metadata": {
    "collapsed": false,
    "pycharm": {
     "name": "#%%\n"
    }
   }
  },
  {
   "cell_type": "code",
   "execution_count": 68,
   "outputs": [
    {
     "name": "stdout",
     "output_type": "stream",
     "text": [
      "Number of constraints = 3\n"
     ]
    }
   ],
   "source": [
    "print('Number of constraints =', solver.NumConstraints())"
   ],
   "metadata": {
    "collapsed": false,
    "pycharm": {
     "name": "#%%\n"
    }
   }
  },
  {
   "cell_type": "code",
   "execution_count": 69,
   "outputs": [],
   "source": [
    "# Criando objetivo, minimizar\n",
    "objective = solver.Objective()\n",
    "for var, o in zip(variaveis, obj):\n",
    "    objective.SetCoefficient(var, o)\n",
    "objective.SetMaximization()#%%"
   ],
   "metadata": {
    "collapsed": false,
    "pycharm": {
     "name": "#%%\n"
    }
   }
  },
  {
   "cell_type": "code",
   "execution_count": 70,
   "outputs": [
    {
     "name": "stdout",
     "output_type": "stream",
     "text": [
      "\\ Generated by MPModelProtoExporter\n",
      "\\   Name             : \n",
      "\\   Format           : Free\n",
      "\\   Constraints      : 3\n",
      "\\   Variables        : 2\n",
      "\\     Binary         : 0\n",
      "\\     Integer        : 0\n",
      "\\     Continuous     : 2\n",
      "Maximize\n",
      " Obj: +3 x +4 y \n",
      "Subject to\n",
      " restricao_000: +1 x +2 y  <= 14\n",
      " restricao_001: +3 x -1 y  >= 0\n",
      " restricao_002: +1 x -1 y  <= 2\n",
      "Bounds\n",
      " 0 <= x\n",
      " 0 <= y\n",
      "End\n",
      "\n"
     ]
    }
   ],
   "source": [
    "res = solver.ExportModelAsLpFormat(False)\n",
    "print(res)"
   ],
   "metadata": {
    "collapsed": false,
    "pycharm": {
     "name": "#%%\n"
    }
   }
  },
  {
   "cell_type": "code",
   "execution_count": 71,
   "outputs": [],
   "source": [
    "# Resolvendo o sistema\n",
    "status = solver.Solve()"
   ],
   "metadata": {
    "collapsed": false,
    "pycharm": {
     "name": "#%%\n"
    }
   }
  },
  {
   "cell_type": "code",
   "execution_count": 72,
   "outputs": [
    {
     "name": "stdout",
     "output_type": "stream",
     "text": [
      "Solution:\n",
      "Objective value = 33.99999999999999\n",
      "x = 5.999999999999998\n",
      "y = 3.9999999999999996\n",
      "\n",
      "Advanced usage:\n",
      "Problem solved in 50160.000000 milliseconds\n",
      "Problem solved in 2 iterations\n"
     ]
    }
   ],
   "source": [
    "if status == pywraplp.Solver.OPTIMAL:\n",
    "    print('Solution:')\n",
    "    print('Objective value =', solver.Objective().Value())\n",
    "    for var in variaveis:\n",
    "        print(f'{var} =', var.solution_value())\n",
    "else:\n",
    "    print('The problem does not have an optimal solution.')\n",
    "\n",
    "print('\\nAdvanced usage:')\n",
    "print('Problem solved in %f milliseconds' % solver.wall_time())\n",
    "print('Problem solved in %d iterations' % solver.iterations())"
   ],
   "metadata": {
    "collapsed": false,
    "pycharm": {
     "name": "#%%\n"
    }
   }
  },
  {
   "cell_type": "code",
   "execution_count": null,
   "outputs": [],
   "source": [],
   "metadata": {
    "collapsed": false,
    "pycharm": {
     "name": "#%%\n"
    }
   }
  }
 ],
 "metadata": {
  "kernelspec": {
   "display_name": "Python 3",
   "language": "python",
   "name": "python3"
  },
  "language_info": {
   "codemirror_mode": {
    "name": "ipython",
    "version": 2
   },
   "file_extension": ".py",
   "mimetype": "text/x-python",
   "name": "python",
   "nbconvert_exporter": "python",
   "pygments_lexer": "ipython2",
   "version": "2.7.6"
  }
 },
 "nbformat": 4,
 "nbformat_minor": 0
}